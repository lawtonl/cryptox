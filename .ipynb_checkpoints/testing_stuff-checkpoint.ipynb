{
 "cells": [
  {
   "cell_type": "markdown",
   "metadata": {},
   "source": [
    "import libraries"
   ]
  },
  {
   "cell_type": "code",
   "execution_count": 1,
   "metadata": {},
   "outputs": [
    {
     "name": "stderr",
     "output_type": "stream",
     "text": [
      "/usr/local/lib/python3.6/dist-packages/sklearn/cross_validation.py:41: DeprecationWarning: This module was deprecated in version 0.18 in favor of the model_selection module into which all the refactored classes and functions are moved. Also note that the interface of the new CV iterators are different from that of this module. This module will be removed in 0.20.\n",
      "  \"This module will be removed in 0.20.\", DeprecationWarning)\n"
     ]
    }
   ],
   "source": [
    "import pandas as pd\n",
    "import quandl, math \n",
    "import matplotlib.pyplot as plt\n",
    "import numpy as np\n",
    "from sklearn import preprocessing, cross_validation, svm\n",
    "from sklearn.linear_model import LinearRegression\n",
    "\n",
    "from matplotlib import style"
   ]
  },
  {
   "cell_type": "markdown",
   "metadata": {},
   "source": [
    "set matplotlib style"
   ]
  },
  {
   "cell_type": "code",
   "execution_count": 2,
   "metadata": {},
   "outputs": [],
   "source": [
    "style.use('fivethirtyeight')"
   ]
  },
  {
   "cell_type": "markdown",
   "metadata": {},
   "source": [
    "set variables"
   ]
  },
  {
   "cell_type": "code",
   "execution_count": 3,
   "metadata": {},
   "outputs": [],
   "source": [
    "code = 'BCHARTS/ROCKUSD'\n",
    "start_date = '2017-07-01'\n",
    "end_date = '2018-02-17'"
   ]
  },
  {
   "cell_type": "markdown",
   "metadata": {},
   "source": [
    "set api key "
   ]
  },
  {
   "cell_type": "code",
   "execution_count": 4,
   "metadata": {},
   "outputs": [],
   "source": [
    "quandl.ApiConfig.api_key = 'bRx2pVd9FyYM3xmEmHrq'"
   ]
  },
  {
   "cell_type": "markdown",
   "metadata": {},
   "source": [
    "get some data"
   ]
  },
  {
   "cell_type": "code",
   "execution_count": 5,
   "metadata": {
    "scrolled": true
   },
   "outputs": [
    {
     "data": {
      "text/html": [
       "<div>\n",
       "<style scoped>\n",
       "    .dataframe tbody tr th:only-of-type {\n",
       "        vertical-align: middle;\n",
       "    }\n",
       "\n",
       "    .dataframe tbody tr th {\n",
       "        vertical-align: top;\n",
       "    }\n",
       "\n",
       "    .dataframe thead th {\n",
       "        text-align: right;\n",
       "    }\n",
       "</style>\n",
       "<table border=\"1\" class=\"dataframe\">\n",
       "  <thead>\n",
       "    <tr style=\"text-align: right;\">\n",
       "      <th></th>\n",
       "      <th>Open</th>\n",
       "      <th>High</th>\n",
       "      <th>Low</th>\n",
       "      <th>Close</th>\n",
       "      <th>Volume (BTC)</th>\n",
       "      <th>Volume (Currency)</th>\n",
       "      <th>label</th>\n",
       "    </tr>\n",
       "    <tr>\n",
       "      <th>Date</th>\n",
       "      <th></th>\n",
       "      <th></th>\n",
       "      <th></th>\n",
       "      <th></th>\n",
       "      <th></th>\n",
       "      <th></th>\n",
       "      <th></th>\n",
       "    </tr>\n",
       "  </thead>\n",
       "  <tbody>\n",
       "    <tr>\n",
       "      <th>2017-07-01</th>\n",
       "      <td>2575.71</td>\n",
       "      <td>2598.95</td>\n",
       "      <td>2502.11</td>\n",
       "      <td>2514.95</td>\n",
       "      <td>4.726</td>\n",
       "      <td>11981.78907</td>\n",
       "      <td>12149.55962</td>\n",
       "    </tr>\n",
       "    <tr>\n",
       "      <th>2017-07-02</th>\n",
       "      <td>2502.00</td>\n",
       "      <td>2570.00</td>\n",
       "      <td>2407.34</td>\n",
       "      <td>2570.00</td>\n",
       "      <td>2.819</td>\n",
       "      <td>7051.33854</td>\n",
       "      <td>13781.74390</td>\n",
       "    </tr>\n",
       "    <tr>\n",
       "      <th>2017-07-03</th>\n",
       "      <td>2619.53</td>\n",
       "      <td>2698.85</td>\n",
       "      <td>2554.65</td>\n",
       "      <td>2690.00</td>\n",
       "      <td>4.591</td>\n",
       "      <td>12149.55962</td>\n",
       "      <td>8140.96334</td>\n",
       "    </tr>\n",
       "    <tr>\n",
       "      <th>2017-07-04</th>\n",
       "      <td>2670.00</td>\n",
       "      <td>2771.33</td>\n",
       "      <td>2634.45</td>\n",
       "      <td>2709.00</td>\n",
       "      <td>5.113</td>\n",
       "      <td>13781.74390</td>\n",
       "      <td>6513.49522</td>\n",
       "    </tr>\n",
       "    <tr>\n",
       "      <th>2017-07-05</th>\n",
       "      <td>2701.76</td>\n",
       "      <td>2740.00</td>\n",
       "      <td>2625.33</td>\n",
       "      <td>2698.13</td>\n",
       "      <td>3.044</td>\n",
       "      <td>8140.96334</td>\n",
       "      <td>10402.96843</td>\n",
       "    </tr>\n",
       "    <tr>\n",
       "      <th>2017-07-06</th>\n",
       "      <td>2699.00</td>\n",
       "      <td>2721.38</td>\n",
       "      <td>2663.26</td>\n",
       "      <td>2690.39</td>\n",
       "      <td>2.434</td>\n",
       "      <td>6513.49522</td>\n",
       "      <td>8132.83065</td>\n",
       "    </tr>\n",
       "    <tr>\n",
       "      <th>2017-07-07</th>\n",
       "      <td>2697.00</td>\n",
       "      <td>2731.10</td>\n",
       "      <td>2568.47</td>\n",
       "      <td>2590.07</td>\n",
       "      <td>3.975</td>\n",
       "      <td>10402.96843</td>\n",
       "      <td>5384.25730</td>\n",
       "    </tr>\n",
       "    <tr>\n",
       "      <th>2017-07-08</th>\n",
       "      <td>2605.07</td>\n",
       "      <td>2648.33</td>\n",
       "      <td>2558.24</td>\n",
       "      <td>2628.00</td>\n",
       "      <td>3.132</td>\n",
       "      <td>8132.83065</td>\n",
       "      <td>26352.78442</td>\n",
       "    </tr>\n",
       "    <tr>\n",
       "      <th>2017-07-09</th>\n",
       "      <td>2606.88</td>\n",
       "      <td>2629.00</td>\n",
       "      <td>2573.00</td>\n",
       "      <td>2573.00</td>\n",
       "      <td>2.080</td>\n",
       "      <td>5384.25730</td>\n",
       "      <td>18168.39634</td>\n",
       "    </tr>\n",
       "    <tr>\n",
       "      <th>2017-07-10</th>\n",
       "      <td>2573.00</td>\n",
       "      <td>2611.78</td>\n",
       "      <td>2400.00</td>\n",
       "      <td>2400.00</td>\n",
       "      <td>10.774</td>\n",
       "      <td>26352.78442</td>\n",
       "      <td>9120.97519</td>\n",
       "    </tr>\n",
       "  </tbody>\n",
       "</table>\n",
       "</div>"
      ],
      "text/plain": [
       "               Open     High      Low    Close  Volume (BTC)  \\\n",
       "Date                                                           \n",
       "2017-07-01  2575.71  2598.95  2502.11  2514.95         4.726   \n",
       "2017-07-02  2502.00  2570.00  2407.34  2570.00         2.819   \n",
       "2017-07-03  2619.53  2698.85  2554.65  2690.00         4.591   \n",
       "2017-07-04  2670.00  2771.33  2634.45  2709.00         5.113   \n",
       "2017-07-05  2701.76  2740.00  2625.33  2698.13         3.044   \n",
       "2017-07-06  2699.00  2721.38  2663.26  2690.39         2.434   \n",
       "2017-07-07  2697.00  2731.10  2568.47  2590.07         3.975   \n",
       "2017-07-08  2605.07  2648.33  2558.24  2628.00         3.132   \n",
       "2017-07-09  2606.88  2629.00  2573.00  2573.00         2.080   \n",
       "2017-07-10  2573.00  2611.78  2400.00  2400.00        10.774   \n",
       "\n",
       "            Volume (Currency)        label  \n",
       "Date                                        \n",
       "2017-07-01        11981.78907  12149.55962  \n",
       "2017-07-02         7051.33854  13781.74390  \n",
       "2017-07-03        12149.55962   8140.96334  \n",
       "2017-07-04        13781.74390   6513.49522  \n",
       "2017-07-05         8140.96334  10402.96843  \n",
       "2017-07-06         6513.49522   8132.83065  \n",
       "2017-07-07        10402.96843   5384.25730  \n",
       "2017-07-08         8132.83065  26352.78442  \n",
       "2017-07-09         5384.25730  18168.39634  \n",
       "2017-07-10        26352.78442   9120.97519  "
      ]
     },
     "execution_count": 5,
     "metadata": {},
     "output_type": "execute_result"
    }
   ],
   "source": [
    "df = quandl.get(code, start_date=start_date, end_date=end_date)\n",
    "df = df[['Open', 'High', 'Low', 'Close', 'Volume (BTC)', 'Volume (Currency)']]\n",
    "#df.columns\n",
    "#df.index\n",
    "\n",
    "#print(data)\n",
    "\n",
    "forecast_col = 'Volume (Currency)'\n",
    "df.fillna(value=-99999, inplace=True)\n",
    "forecast_out = int(math.ceil(0.01 * len(df)))\n",
    "\n",
    "df['label'] = df[forecast_col].shift(-forecast_out)\n",
    "df.dropna(inplace=True)\n",
    "df.head(10)\n"
   ]
  },
  {
   "cell_type": "markdown",
   "metadata": {},
   "source": [
    "plot it on a graph"
   ]
  },
  {
   "cell_type": "code",
   "execution_count": 6,
   "metadata": {},
   "outputs": [
    {
     "data": {
      "image/png": "[encoded data removed]",
      "text/plain": [
       "<matplotlib.figure.Figure at 0x7f11b8b85f98>"
      ]
     },
     "metadata": {},
     "output_type": "display_data"
    }
   ],
   "source": [
    "df[['Open', 'Close']].plot() #[['High', 'Low', 'Open']]\n",
    "plt.legend()\n",
    "plt.show()"
   ]
  },
  {
   "cell_type": "markdown",
   "metadata": {},
   "source": [
    "linear regression stuff"
   ]
  },
  {
   "cell_type": "code",
   "execution_count": 8,
   "metadata": {},
   "outputs": [
    {
     "name": "stdout",
     "output_type": "stream",
     "text": [
      "-0.0768534745568\n",
      "linear -0.0761801317346\n",
      "poly -0.0773689292012\n",
      "rbf -0.0768534745568\n",
      "sigmoid -0.0768309469335\n"
     ]
    }
   ],
   "source": [
    "df.dropna(inplace=True)\n",
    "\n",
    "X = np.array(df.drop(['label'], 1))\n",
    "y = np.array(df['label'])\n",
    "\n",
    "X = preprocessing.scale(X)\n",
    "y = np.array(df['label'])\n",
    "\n",
    "X_train, X_test, y_train, y_test = cross_validation.train_test_split(X, y, test_size=0.2)\n",
    "\n",
    "clf = svm.SVR()\n",
    "\n",
    "clf.fit(X_train, y_train)\n",
    "\n",
    "confidence = clf.score(X_test, y_test)\n",
    "\n",
    "print(confidence)\n",
    "\n",
    "clf = LinearRegression()\n",
    "\n",
    "for k in ['linear','poly','rbf','sigmoid']:\n",
    "    clf = svm.SVR(kernel=k)\n",
    "    clf.fit(X_train, y_train)\n",
    "    confidence = clf.score(X_test, y_test)\n",
    "    print(k,confidence)"
   ]
  },
  {
   "cell_type": "code",
   "execution_count": null,
   "metadata": {},
   "outputs": [],
   "source": []
  }
 ],
 "metadata": {
  "kernelspec": {
   "display_name": "Python 3",
   "language": "python",
   "name": "python3"
  },
  "language_info": {
   "codemirror_mode": {
    "name": "ipython",
    "version": 3
   },
   "file_extension": ".py",
   "mimetype": "text/x-python",
   "name": "python",
   "nbconvert_exporter": "python",
   "pygments_lexer": "ipython3",
   "version": "3.6.4"
  }
 },
 "nbformat": 4,
 "nbformat_minor": 2
}
